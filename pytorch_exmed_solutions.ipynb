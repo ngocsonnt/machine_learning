{
  "nbformat": 4,
  "nbformat_minor": 0,
  "metadata": {
    "colab": {
      "provenance": [],
      "collapsed_sections": [],
      "include_colab_link": true
    },
    "kernelspec": {
      "name": "python3",
      "display_name": "Python 3"
    },
    "language_info": {
      "name": "python"
    },
    "accelerator": "GPU"
  },
  "cells": [
    {
      "cell_type": "markdown",
      "metadata": {
        "id": "view-in-github",
        "colab_type": "text"
      },
      "source": [
        "<a href=\"https://colab.research.google.com/github/ngocsonnt/machine_learning/blob/main/pytorch_exmed_solutions.ipynb\" target=\"_parent\"><img src=\"https://colab.research.google.com/assets/colab-badge.svg\" alt=\"Open In Colab\"/></a>"
      ]
    },
    {
      "cell_type": "markdown",
      "source": [
        "<table align=\"right\"><td>\n",
        "</td><td>\n",
        "  <a target=\"_blank\"  href=\"https://www.weclouddata.com/\">\n",
        "    <img width=128px src=\"https://www.weclouddata.com/wp-content/uploads/2021/01/WCD-Logo.svg\" /></a>\n",
        "</td></table>\n",
        "\n",
        "\n",
        "#Pytorch Exercises part 2"
      ],
      "metadata": {
        "id": "OKbRyQcPJIvy"
      }
    },
    {
      "cell_type": "markdown",
      "source": [
        "Hello! after successfuly completing the first part of this exercise you should be ready to head in to this collaborative lab armed with some decent insight into the building blocks for an MLP. We'll stick with dense layers for now and keep building our knowledge base until we're comfortable before moving on to more advanced architectures in the next few modules.\n",
        "\n",
        "In this lab we'll look at:\n",
        "\n",
        "- Revisitng simple data.\n",
        "- Visually manifesting our decision boundaries.\n",
        "- Moving on to more complex data, and begginging to tackle multi-class problems.\n",
        "\n",
        "\\\n",
        "\n",
        "\n",
        "For now let's refresh our memory. Right now you should be able to:\n",
        "\n",
        "- take simple data and convert to tensor with ease.\n",
        "- Solve a binary classification problem intuitively and with Pytorch's Linear API.\n",
        "\n",
        "## Part 1\n",
        "\n",
        "\n",
        "Given the above and your previous exercise let's revisit the XOR problem. First of all go ahead and do the follwing:\n",
        "\n",
        "- Define your data.\n",
        "- Define your bround truths.\n",
        "- convert all of the above to tensor and convert to float. "
      ],
      "metadata": {
        "id": "DpO8Fkc8JSLh"
      }
    },
    {
      "cell_type": "code",
      "source": [
        "#your code here\n",
        "import numpy as np\n",
        "import torch\n",
        "\n",
        "X = np.array([[0, 0], [0, 1], [1,0], [1, 1]])\n",
        "\n",
        "gates = {'OR': np.array([0,1,1,1]),\n",
        "         'AND': np.array([0,0,0,1]),\n",
        "         'XOR': np.array([0,1,1,0])}\n",
        "\n",
        "\n",
        "Xt = torch.from_numpy(X).float()\n",
        "y = torch.from_numpy(gates['XOR']).float()"
      ],
      "metadata": {
        "id": "wEKmNUfDJLUp"
      },
      "execution_count": null,
      "outputs": []
    },
    {
      "cell_type": "markdown",
      "source": [
        "OK great! We have everything we need to work with for now so let's plug in what we've learn into some new concepts. \n",
        "\n",
        "##Part 2\n",
        "\n",
        "Pytorch has a pretty lucid object oriented interface, and I've provided the core of th class definiton you need below. Let's go ahead and plug in some dense layers give what we learnt about the `nn.Linear` module in the last session. For this round let's fall back on the configuration that uses the following:\n",
        "\n",
        "- A one dimensional output.\n",
        "- A single Rectified Linear Unit. \n",
        "- Two hidden neurons should be enough but feel free to experiment here.\n",
        "- Feel free to call the class whatever you'd like!\n"
      ],
      "metadata": {
        "id": "KTR3BUwxOU-N"
      }
    },
    {
      "cell_type": "code",
      "source": [
        "from IPython.display import IFrame\n",
        "IFrame(src='https://drive.google.com/file/d/12r-yy2lYIpn4v0ULf8jFMDygPyKaNGSj/preview', width=500, height=300)"
      ],
      "metadata": {
        "colab": {
          "base_uri": "https://localhost:8080/",
          "height": 321
        },
        "id": "EkxCWn9LQQum",
        "outputId": "09673ab1-e3bb-4ef1-f65a-21727bffa90b"
      },
      "execution_count": null,
      "outputs": [
        {
          "output_type": "execute_result",
          "data": {
            "text/plain": [
              "<IPython.lib.display.IFrame at 0x7f9725bbb890>"
            ],
            "text/html": [
              "\n",
              "        <iframe\n",
              "            width=\"500\"\n",
              "            height=\"300\"\n",
              "            src=\"https://drive.google.com/file/d/12r-yy2lYIpn4v0ULf8jFMDygPyKaNGSj/preview\"\n",
              "            frameborder=\"0\"\n",
              "            allowfullscreen\n",
              "        ></iframe>\n",
              "        "
            ]
          },
          "metadata": {},
          "execution_count": 2
        }
      ]
    },
    {
      "cell_type": "code",
      "source": [
        "import torch\n",
        "import torch.nn as nn\n",
        "import torch.nn.functional as F\n",
        "\n",
        "\n",
        "class Net(nn.Module):\n",
        "\n",
        "    def __init__(self, input_dim, num_classes):\n",
        "        super(Net, self).__init__()\n",
        "        self.fcin = nn.Linear(input_dim, 4) #your code here  \n",
        "        self.fcout = nn.Linear(4, num_classes) #your code here\n",
        "\n",
        "    def forward(self, x):\n",
        "        x = torch.relu(self.fcin(x)) #your code here\n",
        "        x = self.fcout(x) #your code here\n",
        "        return x\n"
      ],
      "metadata": {
        "id": "avhDu73uQavG"
      },
      "execution_count": null,
      "outputs": []
    },
    {
      "cell_type": "markdown",
      "source": [
        "Let's take a look at what's going on here:\n",
        "\n",
        "- Notice on initialization the super constructir is called. This is simply because we're employing `nn.Linear` from `nn.Module` and that particular superclass need to be initalissed in order to become available within our custom class.\n",
        "\n",
        "- The real flexibility of this methodology lies in the fact that we can define our layers as objects and later chop and change, add lonlinearities etc in the forward pass.\n",
        "\n",
        "##Part 3\n",
        "\n",
        "Before we discuss further however go ahead and: \n",
        "\n",
        "- initialize your new network class given what you know about OOP. \n",
        "- pass in our data.\n",
        "\n",
        "**Hint** \n",
        "\n",
        "- within the core code I gave you we require both `input_dim` and `num_classes`."
      ],
      "metadata": {
        "id": "WCIxP20-STXU"
      }
    },
    {
      "cell_type": "code",
      "source": [
        "#your code here\n",
        "model = Net(2,1)\n",
        "outputs = model(Xt)\n",
        "print(outputs)"
      ],
      "metadata": {
        "colab": {
          "base_uri": "https://localhost:8080/"
        },
        "id": "pvkE2mf0Vkv4",
        "outputId": "f239c439-f231-413f-87db-d334330000fb"
      },
      "execution_count": null,
      "outputs": [
        {
          "output_type": "stream",
          "name": "stdout",
          "text": [
            "tensor([[0.2740],\n",
            "        [0.2982],\n",
            "        [0.2982],\n",
            "        [0.2982]], grad_fn=<AddmmBackward0>)\n"
          ]
        }
      ]
    },
    {
      "cell_type": "markdown",
      "source": [
        "Awesome! Let's not stop here and keep building on what we know.\n",
        "\n",
        "Now this data is super simple. No noise, four points:"
      ],
      "metadata": {
        "id": "b2ydP1O0Z9vs"
      }
    },
    {
      "cell_type": "code",
      "source": [
        "import matplotlib.pyplot as plt\n",
        "\n",
        "plt.scatter(X[:, 0], X[:, 1])\n",
        "plt.show()"
      ],
      "metadata": {
        "colab": {
          "base_uri": "https://localhost:8080/",
          "height": 265
        },
        "id": "SU_CYMGGX8ka",
        "outputId": "a051c616-e4a2-438a-e5e0-55ec8c505985"
      },
      "execution_count": null,
      "outputs": [
        {
          "output_type": "display_data",
          "data": {
            "text/plain": [
              "<Figure size 432x288 with 1 Axes>"
            ],
            "image/png": "[encoded data removed]"
          },
          "metadata": {
            "needs_background": "light"
          }
        }
      ]
    },
    {
      "cell_type": "markdown",
      "source": [
        "Given that let's go ahead and put together a simple loader with Pytorch's  DataLoader class. For now we'll shy away from any need for normalization or augmentation given the simplicity of the problem."
      ],
      "metadata": {
        "id": "ZoQUnAsZeCMA"
      }
    },
    {
      "cell_type": "code",
      "source": [
        "import torch.utils.data as data_utils\n",
        "\n",
        "train = data_utils.TensorDataset(Xt,y)\n",
        "\n",
        "train_loader = data_utils.DataLoader(train , batch_size=1 , shuffle=False)\n",
        "train_loaderb4 = data_utils.DataLoader(train , batch_size=4 , shuffle=False)"
      ],
      "metadata": {
        "id": "Gu40BNOqeQ38"
      },
      "execution_count": null,
      "outputs": []
    },
    {
      "cell_type": "code",
      "source": [
        "print('batch: 1\\n')\n",
        "\n",
        "for batch_idx,(data , labels) in enumerate(train_loader):\n",
        "  print(f'input {batch_idx}: {data}, target: {labels}')\n",
        "\n",
        "print('\\nbatch: 4\\n')\n",
        "\n",
        "for batch_idx,(data , labels) in enumerate(train_loaderb4):\n",
        "  print(f'input {batch_idx}: {data}, target: {labels}')"
      ],
      "metadata": {
        "colab": {
          "base_uri": "https://localhost:8080/"
        },
        "id": "6ECGI3mJeXR9",
        "outputId": "509905bb-877b-4c09-bf84-bb8ac09035da"
      },
      "execution_count": null,
      "outputs": [
        {
          "output_type": "stream",
          "name": "stdout",
          "text": [
            "batch: 1\n",
            "\n",
            "input 0: tensor([[0., 0.]]), target: tensor([0.])\n",
            "input 1: tensor([[0., 1.]]), target: tensor([1.])\n",
            "input 2: tensor([[1., 0.]]), target: tensor([1.])\n",
            "input 3: tensor([[1., 1.]]), target: tensor([0.])\n",
            "\n",
            "batch: 4\n",
            "\n",
            "input 0: tensor([[0., 0.],\n",
            "        [0., 1.],\n",
            "        [1., 0.],\n",
            "        [1., 1.]]), target: tensor([0., 1., 1., 0.])\n"
          ]
        }
      ]
    },
    {
      "cell_type": "markdown",
      "source": [
        "Now looking at our data loaders here it's easy to see how we might be able to go about intercepting out training data and pushing it through a forward pass, where epochs represent a complete forward and backward pass through the entire datset.\n",
        "\n",
        "\n",
        "\n",
        "##Part 4\n",
        "\n",
        "Before we go ahead and begin to add loss and backpropogation into our training loop - Given the description above go ahead and use the data loader to feed what we have into ourn model.\n",
        "\n",
        "**Note** Notice I've got you on your feet with the first of you nested loops here."
      ],
      "metadata": {
        "id": "C84igjXpmc5H"
      }
    },
    {
      "cell_type": "code",
      "source": [
        "num_epochs = 700\n",
        "for i in range(0, num_epochs):\n",
        "  #your code here\n",
        "  for batch_idx,(data , labels) in enumerate(train_loaderb4):\n",
        "    outputs = model(data)\n",
        "\n",
        "print(outputs)\n",
        "\n"
      ],
      "metadata": {
        "colab": {
          "base_uri": "https://localhost:8080/"
        },
        "id": "yD74l3gheYNf",
        "outputId": "5c3631f0-5fc7-47e4-c2e6-bdc37f2358a1"
      },
      "execution_count": null,
      "outputs": [
        {
          "output_type": "stream",
          "name": "stdout",
          "text": [
            "tensor([[-0.0225],\n",
            "        [ 0.1022],\n",
            "        [-0.0979],\n",
            "        [ 0.0268]], grad_fn=<AddmmBackward0>)\n"
          ]
        }
      ]
    },
    {
      "cell_type": "markdown",
      "source": [
        "Great! We're getting somewhere but we're not learning anything. You'll recall from your previous sessions that this is where all of the magic comes into play! Let's take this step by step:\n",
        "\n",
        "- Recall that the first port of call here is to calculate our loss. Note that we're sticking with a simple hidden layer wrappped in a Relu non-linearity and there `nn.MSELoss` will suffice\n",
        "\n",
        "\\\n",
        "\n",
        "\\begin{align}\n",
        "MSE =  \\frac{{1}}{n}  \\sum_{i}^{n} (  y_i-\\hat{y_i})^2\n",
        "\\end{align}\n",
        "\n",
        "\\\n",
        "\n",
        "It's also not uncommon here to keep track of our current loss as a printout or with tensorboard but let's keep things simple for now.\n",
        "\n",
        "- Second of all we're going to need to reset the gradients we're keeping a track of with `optimizer.zero_grad()` lest we accmulate. Note here that we're using Adam as it's great out of the box and efficient but there'll be more on optimizers in a later session. For now let's experiment with changing our learning rate achives.\n",
        "\n",
        "- `loss.backward()` will then calculate our partial derivates for the loss function with regards to all the parameters of our network.\n",
        "\n",
        "\n",
        "- Last of all `optimizer.step()` then peforms our parameter update given our optmizer of choice and the learning rate that we've dialled in.\n",
        "\n",
        "##Part 6\n",
        "\n",
        "Ok ok, now you have the foundations of a training loop and a forward pass let's go ahead and stich it together with what we know conceptually about backpropogating our error. As a refresher we need:\n",
        "\n",
        "- Our part 4 nested training loop.\n",
        "- our loss function, `nn.MSELoss` in this scenario.\n",
        "- reset our gradients with `optimizer.zero_grad()`\n",
        "-Finally calculate our partial derivates with `loss.backward` and update finally apply our parameter updates with `optimizer.step()`\n",
        "\n",
        "Over to you. You've got this!\n"
      ],
      "metadata": {
        "id": "DdjNC9xupmGF"
      }
    },
    {
      "cell_type": "code",
      "source": [
        "del model"
      ],
      "metadata": {
        "id": "f-pC4SBoRv65"
      },
      "execution_count": null,
      "outputs": []
    },
    {
      "cell_type": "code",
      "source": [
        "#your code here \n",
        "\n",
        "import torch\n",
        "import torch.nn as nn\n",
        "\n",
        "class Net(nn.Module):\n",
        "\n",
        "    def __init__(self, input_dim, num_classes):\n",
        "        super(Net, self).__init__()\n",
        "        self.fcin = nn.Linear(input_dim, 4) \n",
        "        self.fcout = nn.Linear(4, num_classes) \n",
        "\n",
        "    def forward(self, x):\n",
        "        x = torch.relu(self.fcin(x)) \n",
        "        x = self.fcout(x)\n",
        "        return x\n",
        "\n",
        "model = Net(2,1)\n",
        "model.train()\n",
        "\n",
        "num_epochs = 40000\n",
        "learning_rate = 0.01\n",
        "train_loss = 0\n",
        "best_loss = 1e10\n",
        "\n",
        "train = data_utils.TensorDataset(Xt,y)\n",
        "train_loaderb4 = data_utils.DataLoader(train , batch_size=4 , shuffle=False)\n",
        "\n",
        "criterionCE = nn.MSELoss()\n",
        "optimizer = torch.optim.Adam(model.parameters(), lr=learning_rate)\n",
        "\n",
        "for i in range(0, num_epochs):\n",
        "  train_loss = 0\n",
        "  for batch_idx,(data , labels) in enumerate(train_loaderb4):\n",
        "    outputs = model(data)\n",
        "    \n",
        "    loss = criterionCE(outputs , labels.unsqueeze(1))\n",
        "    train_loss+=loss.item() * data.size(0)\n",
        "\n",
        "    optimizer.zero_grad()\n",
        "    loss.backward()\n",
        "    optimizer.step()\n",
        "\n",
        "  train_loss = train_loss/len(train_loaderb4.sampler)\n",
        "  print(f\"Train loss: {train_loss:.4f}\")\n",
        "\n",
        "  if train_loss < best_loss:\n",
        "    best_loss = train_loss\n",
        "    torch.save(model.state_dict(), 'check.pth')\n",
        "\n",
        "  if best_loss <= 0.00001:\n",
        "    break\n",
        " \n",
        "pred = model(Xt)\n",
        "print(outputs)"
      ],
      "metadata": {
        "id": "EG2gzyNa0xB2"
      },
      "execution_count": null,
      "outputs": []
    },
    {
      "cell_type": "code",
      "source": [
        "model = Net(2,1)\n",
        "model.load_state_dict(torch.load('check.pth'))\n",
        "model.eval()\n",
        "\n",
        "pred = model(Xt)\n",
        "print(outputs)"
      ],
      "metadata": {
        "colab": {
          "base_uri": "https://localhost:8080/"
        },
        "id": "d2PcTSobS3Uh",
        "outputId": "f10a42aa-97a9-4774-8ecb-156a5169ecbc"
      },
      "execution_count": null,
      "outputs": [
        {
          "output_type": "stream",
          "name": "stdout",
          "text": [
            "tensor([[0.0013],\n",
            "        [1.0001],\n",
            "        [0.9999],\n",
            "        [0.0057]], grad_fn=<AddmmBackward0>)\n"
          ]
        }
      ]
    },
    {
      "cell_type": "code",
      "source": [
        "\n",
        "print(np.where(outputs.detach().cpu().numpy() > 0.5, 1, 0))"
      ],
      "metadata": {
        "colab": {
          "base_uri": "https://localhost:8080/"
        },
        "id": "68aG-79XTIgV",
        "outputId": "88baf4a5-dcab-444a-fa71-6a70a567a9cd"
      },
      "execution_count": null,
      "outputs": [
        {
          "output_type": "stream",
          "name": "stdout",
          "text": [
            "[[0]\n",
            " [1]\n",
            " [1]\n",
            " [0]]\n"
          ]
        }
      ]
    },
    {
      "cell_type": "markdown",
      "source": [
        "##Solutions redux notes\n",
        "\n",
        "Note a few things we started exploring during our last session together:\n",
        "\n",
        "- First up we're collecting our batch loss by accumulating the current loss dislocated from it's tensor with `loss.item()` and then multiplying it with the batch size - When our loss function defaults to `mean` reduction as we see with `nn.MSELoss` the loss we're receiving is across the batch but divided by the batch.\n",
        "\n",
        "- At the end of the epoch we're then dividing our accumulated batch loss with the length the dataset to grab our overall training loss.\n",
        "\n",
        "- We saw heading blind into these loops last session that simple data like this can see us overshoot quite easily so not only are we saving our `model.state_dict()` on the fly as our loss improves but we're also cutting our training once we reach an absurdly low loss given our data. Of course this would be a questionable prractice in a situation that would invite overfitting.\n",
        "\n",
        "Go ahead and see if you can start bringing in the techniques above into the concepts below!"
      ],
      "metadata": {
        "id": "8OF0DL_KSruv"
      }
    },
    {
      "cell_type": "markdown",
      "source": [
        "##Part 5\n",
        "\n",
        "Now let's do all of this with the sigmoid outputs we put together in the last exercise in conjunction with `nn.BCELoss` \n",
        "\n",
        "\\\n",
        "\n",
        "\\begin{align}\n",
        "\\mathcal{L}(\\theta)\n",
        "&= -\\frac{1}{n}\\sum_{i=1}^n\\sum_{j=1}^m y_{ij}\\log(p_{ij}) \\\\\n",
        "&= -\\frac{1}{n}\\sum_{i=1}^n \\left[y_i \\log(p_i) + (1-y_i) \\log(1-p_i)\\right] \n",
        "\\end{align}\n",
        "\n",
        "\\\n",
        "\n",
        "At this point you should be more than confident to construct this whole thing by yourself so go forward to be the Deep Learning superheroes you were always meant to be!"
      ],
      "metadata": {
        "id": "Bc1c9d7gtMo3"
      }
    },
    {
      "cell_type": "code",
      "source": [
        "if torch.cuda.is_available():\n",
        "  device = torch.device('cuda')\n",
        "  print('using gpu!')\n",
        "else:\n",
        "  device = torch.device('cpu')\n",
        "  print('using cpu!')\n",
        "\n",
        "#or\n",
        "device = torch.device('cuda' if torch.cuda.is_available() else 'cpu') "
      ],
      "metadata": {
        "colab": {
          "base_uri": "https://localhost:8080/"
        },
        "id": "rg4HmWDi7pof",
        "outputId": "b3fe9454-903b-4ab9-b3cb-9f9ef027d45e"
      },
      "execution_count": null,
      "outputs": [
        {
          "output_type": "stream",
          "name": "stdout",
          "text": [
            "using gpu!\n"
          ]
        }
      ]
    },
    {
      "cell_type": "code",
      "source": [
        "#your code here\n",
        "\n",
        "import torch\n",
        "import time\n",
        "import torch.nn as nn\n",
        "import torch.nn.functional as F\n",
        "\n",
        "\n",
        "class Net(nn.Module):\n",
        "\n",
        "    def __init__(self, input_dim, num_classes):\n",
        "        super(Net, self).__init__()\n",
        "        self.fcin = nn.Linear(input_dim, 4) \n",
        "        self.fcout = nn.Linear(4, num_classes) \n",
        "\n",
        "    def forward(self, x):\n",
        "        x = torch.relu(self.fcin(x)) \n",
        "        x = torch.sigmoid(self.fcout(x))\n",
        "        return x\n",
        "\n",
        "model = Net(2,1)\n",
        "\n",
        "num_epochs = 7000\n",
        "learning_rate = 0.01\n",
        "\n",
        "train = data_utils.TensorDataset(Xt,y)\n",
        "train_loaderb4 = data_utils.DataLoader(train , batch_size=4 , shuffle=True)\n",
        "\n",
        "criterionCE = nn.BCELoss()\n",
        "optimizer = torch.optim.Adam(model.parameters(), lr=learning_rate)\n",
        "\n",
        "model = Net(2,1)\n",
        "\n",
        "def run(model, num_epochs, learning_rate=0.01, bench=True):\n",
        "  model.train()\n",
        "  \n",
        "  start = time.time()\n",
        "  \n",
        "  for i in range(0, num_epochs):\n",
        "    for batch_idx,(data , labels) in enumerate(train_loaderb4):\n",
        "      outputs = model(data)\n",
        "      \n",
        "      loss = criterionCE(outputs , labels.unsqueeze(1).float())\n",
        "      optimizer.zero_grad()\n",
        "      loss.backward()\n",
        "      optimizer.step()\n",
        "  \n",
        "  end = time.time()\n",
        "  \n",
        "  if bench:\n",
        "    print(f'training completed in {end-start}s')\n",
        "  \n",
        "  return model\n",
        "\n",
        "model = run(7000)\n",
        "\n",
        "model.eval()\n",
        "pred = model(Xt)"
      ],
      "metadata": {
        "colab": {
          "base_uri": "https://localhost:8080/"
        },
        "id": "vAYU6gs3t0AI",
        "outputId": "bbf5f6d4-988f-442f-d2bd-eda2832c8c3b"
      },
      "execution_count": null,
      "outputs": [
        {
          "output_type": "stream",
          "name": "stdout",
          "text": [
            "training completed in 5.571108102798462s\n"
          ]
        }
      ]
    },
    {
      "cell_type": "code",
      "source": [
        "\n",
        "print(np.where(pred.detach().cpu().numpy() > 0.5, 1, 0))"
      ],
      "metadata": {
        "colab": {
          "base_uri": "https://localhost:8080/"
        },
        "id": "sKspYfkBGIMA",
        "outputId": "0eaf1b50-7382-43b0-cf1d-69bea4b3dc77"
      },
      "execution_count": null,
      "outputs": [
        {
          "output_type": "stream",
          "name": "stdout",
          "text": [
            "[[0]\n",
            " [1]\n",
            " [1]\n",
            " [0]]\n"
          ]
        }
      ]
    },
    {
      "cell_type": "markdown",
      "source": [
        "You did it! Now the real beauty of using a sigmoid output with Binary Scrossentropy here is that we're essentially outputting the probability that we're getting closer to a positive class. To really get a sense of this lets manifets our decison boundary. I've supplied all the code you need here simply plug and play your model ensuring that:\n",
        "\n",
        "- `pt` is set to `True`\n",
        "- `output_class` is `False`\n",
        "- Simply pass your model, data and targets and let's see what we get."
      ],
      "metadata": {
        "id": "ir0o0JjfukSt"
      }
    },
    {
      "cell_type": "code",
      "source": [
        "import matplotlib.pyplot as plt\n",
        "import numpy as np\n",
        "import torch\n",
        "\n",
        "\n",
        "def plot_decision(X,y,model,size =(8,8), \n",
        "                  output_class = False, \n",
        "                  pt = False, device='cpu', \n",
        "                  text_pred=False,\n",
        "                  softmax=False):\n",
        "  \n",
        "  h = .02  # step size in the mesh\n",
        "\n",
        "  x_min, x_max = X[:, 0].min() - 1, X[:, 0].max() + 1\n",
        "  y_min, y_max = X[:, 1].min() - 1, X[:, 1].max() + 1\n",
        "  xx, yy = np.meshgrid(np.arange(x_min, x_max, h),\n",
        "                      np.arange(y_min, y_max, h))\n",
        "\n",
        "  fig, ax = plt.subplots(figsize=size)\n",
        "\n",
        "  if pt:\n",
        "    model.eval()\n",
        "\n",
        "    input = torch.from_numpy(np.c_[xx.ravel(), yy.ravel()]).float().to(device)\n",
        "    outputs = model(input)\n",
        "    if softmax:\n",
        "      outputs = outputs.data.max(1, keepdim=True)[1]\n",
        "    Z = outputs.detach().cpu().numpy()\n",
        "\n",
        "\n",
        "    Xt = torch.from_numpy(X).to(device).float()\n",
        "    pred = model(Xt)\n",
        "\n",
        "    if not softmax:\n",
        "      pred = np.where(pred.detach().cpu().numpy() > 0.5, 1, 0).flatten()\n",
        "    else:\n",
        "      pred  =  pred.detach().cpu().numpy().flatten()\n",
        "\n",
        " \n",
        "  else:\n",
        "\n",
        "    Z = model.predict(np.c_[xx.ravel(), yy.ravel()])\n",
        "  \n",
        "  if output_class:\n",
        "    Z = Z >0.5\n",
        "\n",
        "  # Put the result into a color plot\n",
        "  Z = Z.reshape(xx.shape)\n",
        "  ax.contourf(xx, yy, Z)\n",
        "  ax.axis('on')\n",
        "\n",
        "  # Plot test points\n",
        "  ax.scatter(X[:, 0], X[:, 1], c=y, cmap=plt.cm.Paired)\n",
        "  if text_pred:\n",
        "    plt.title(f'pred: {pred}')\n",
        "  plt.show()"
      ],
      "metadata": {
        "id": "nbp2DnBr4qvl"
      },
      "execution_count": null,
      "outputs": []
    },
    {
      "cell_type": "code",
      "source": [
        "#your code here \n",
        "\n",
        "plot_decision(Xt.numpy(),y.numpy(),model,output_class = False, pt = True, text_pred=True)\n",
        "\n"
      ],
      "metadata": {
        "colab": {
          "base_uri": "https://localhost:8080/",
          "height": 499
        },
        "id": "jOMqjXGj5Ib9",
        "outputId": "fa9ea309-224d-4b6a-d91d-6fc3edd2aee5"
      },
      "execution_count": null,
      "outputs": [
        {
          "output_type": "display_data",
          "data": {
            "text/plain": [
              "<Figure size 576x576 with 1 Axes>"
            ],
            "image/png": "[encoded data removed]"
          },
          "metadata": {
            "needs_background": "light"
          }
        }
      ]
    },
    {
      "cell_type": "markdown",
      "source": [
        "#Extracurriclar\n",
        "\n",
        "Notice in my answer I've created a simple function in order to be able to re-use the training loop in conjunction with evaluation. What's missing right now however is a couple of concepts we're yet to discuss.\n",
        "\n",
        "- Should we need to validate our data during a run with more complex data we're going to need to switch our model to evaluation mode `model.eval()` in order to halt any learning. We'll then need to toggle `model.train()` in order to continue  calculating updating our parameters.\n",
        "\n",
        "- Now is also a good time to discuss the devices available to us. Run the snippet below and see what you get:"
      ],
      "metadata": {
        "id": "5r4Dbfzw4SNQ"
      }
    },
    {
      "cell_type": "code",
      "source": [
        "if torch.cuda.is_available():\n",
        "  device = torch.device('cuda')\n",
        "  print('using gpu!')\n",
        "else:\n",
        "  device = torch.device('cpu')\n",
        "  print('using cpu!')\n",
        "\n",
        "#or\n",
        "device = torch.device('cuda' if torch.cuda.is_available() else 'cpu')"
      ],
      "metadata": {
        "colab": {
          "base_uri": "https://localhost:8080/"
        },
        "id": "_mBNPfu0-Y_p",
        "outputId": "68fb1865-dba5-478e-8d8f-5022dc693ed5"
      },
      "execution_count": null,
      "outputs": [
        {
          "output_type": "stream",
          "name": "stdout",
          "text": [
            "using gpu!\n"
          ]
        }
      ]
    },
    {
      "cell_type": "markdown",
      "source": [
        "As you can see I have a GPU available after selecting the appropriate option in the `Runtime - Change runtime type - Hardware accelarator` menu above. While the appropriate CUDA drivers for your local discrete NVIDIA GPU, or cloud instance would be present in a different setup.\n",
        "\n",
        "Given this let's ensure that are model and appropriate data is moved to device for that extra speedup\n",
        "\n"
      ],
      "metadata": {
        "id": "9tRlZP3r-fz4"
      }
    },
    {
      "cell_type": "code",
      "source": [
        "Xt = Xt.to(device)\n",
        "y = y.to(device)\n",
        "\n",
        "#Note that printing the tensor here will see it tagged with Cuda as the device\n",
        "print(Xt)"
      ],
      "metadata": {
        "colab": {
          "base_uri": "https://localhost:8080/"
        },
        "id": "XJQ_wDL5FgpZ",
        "outputId": "a40829f8-7bbe-4506-870d-bdda0d09941f"
      },
      "execution_count": null,
      "outputs": [
        {
          "output_type": "stream",
          "name": "stdout",
          "text": [
            "tensor([[0., 0.],\n",
            "        [0., 1.],\n",
            "        [1., 0.],\n",
            "        [1., 1.]], device='cuda:0')\n"
          ]
        }
      ]
    },
    {
      "cell_type": "code",
      "source": [
        "train = data_utils.TensorDataset(Xt,y)\n",
        "train_loaderb4 = data_utils.DataLoader(train , batch_size=4 , shuffle=True)\n",
        "\n",
        "\n",
        "\n",
        "def run(num_epochs, learning_rate=0.01, bench=True):\n",
        "  model = Net(2,1)\n",
        "  model = model.to(device) #to GPU\n",
        "\n",
        "  optimizer = torch.optim.Adam(model.parameters(), lr=learning_rate)\n",
        "\n",
        "  model.train()\n",
        "  \n",
        "  start = time.time()\n",
        "  \n",
        "  for i in range(0, num_epochs):\n",
        "    for batch_idx,(data , labels) in enumerate(train_loaderb4):\n",
        "      outputs = model(data)\n",
        "      loss = criterionCE(outputs , labels.unsqueeze(1))\n",
        "      optimizer.zero_grad()\n",
        "      loss.backward()\n",
        "      optimizer.step()\n",
        "  \n",
        "  torch.cuda.synchronize()\n",
        "  end = time.time()\n",
        "\n",
        "  if bench:\n",
        "    print(f'training completed in {end-start}s')\n",
        "  \n",
        "  return model\n",
        "\n",
        "model = run(7000)\n",
        "\n",
        "model.eval()\n",
        "pred = model(Xt)"
      ],
      "metadata": {
        "colab": {
          "base_uri": "https://localhost:8080/"
        },
        "id": "V9bIiJioC3AM",
        "outputId": "656ba7ef-e957-49c0-e7dd-1b94cfc25c3b"
      },
      "execution_count": null,
      "outputs": [
        {
          "output_type": "stream",
          "name": "stdout",
          "text": [
            "training completed in 8.692549467086792s\n"
          ]
        }
      ]
    },
    {
      "cell_type": "markdown",
      "source": [
        "Note that we're actually seeing a significant hit in terms of training time here as we're not only dealing with the overhead of moving between devices but we're also dealing with small tensors. Parallel computation really shines the deeper we get and the larger our dataset as we'll see in upcoming sessions.\n",
        "\n",
        "Fo now go "
      ],
      "metadata": {
        "id": "G_lEwdj9GqaQ"
      }
    },
    {
      "cell_type": "code",
      "source": [
        "from IPython.display import clear_output\n",
        "import time\n",
        "\n",
        "\n",
        "for i in range (50):\n",
        "  clear_output(wait=True)\n",
        "  model = run(i, learning_rate=0.1, bench=False)\n",
        "  model.eval()\n",
        "  \n",
        "\n",
        "  \n",
        "  plot_decision(Xt.cpu().numpy(),y.cpu().numpy(),model.to('cpu'), \n",
        "                  output_class=False, \n",
        "                  pt = True)\n",
        "  time.sleep(0.01)"
      ],
      "metadata": {
        "colab": {
          "base_uri": "https://localhost:8080/",
          "height": 483
        },
        "id": "lmXiiQVB2Gdk",
        "outputId": "c27bc3e6-4251-4aea-d258-89c34de30c1c"
      },
      "execution_count": null,
      "outputs": [
        {
          "output_type": "display_data",
          "data": {
            "text/plain": [
              "<Figure size 576x576 with 1 Axes>"
            ],
            "image/png": "[encoded data removed]"
          },
          "metadata": {
            "needs_background": "light"
          }
        }
      ]
    },
    {
      "cell_type": "markdown",
      "source": [
        "##Final challenges\n",
        "\n",
        "Alright! We've made it so let's head over to our final challenge and get this thing done.\n",
        "\n",
        "###Part 1\n",
        "\n",
        "solve a binary classification problem once more with new data. Note a few things here:\n",
        "\n",
        "- I've already provided you with a make moons example and your respective splits, feel free however to hav a play around with the settings.\n",
        "\n",
        "- You're tasked here with preparing your data for training, and moving to device should you wish.\n",
        "\n",
        "- Finally utilize the plot fucntion I've provided for you. Bonus points if you can demonstrate the shift in decision boundary with increased epoch once again. This one looks pretty cool as the boundary bends to encapsulate each moon.\n",
        "\n",
        "\n",
        "\n"
      ],
      "metadata": {
        "id": "wlhEqf1_vSpT"
      }
    },
    {
      "cell_type": "code",
      "source": [
        "from sklearn.datasets import make_moons\n",
        "from sklearn.model_selection import train_test_split\n",
        "\n",
        "X, y = make_moons(n_samples = 1000)\n",
        "X_train, X_test, y_train, y_test = train_test_split(X, y, test_size=0.25, random_state=42)\n",
        "\n",
        "plt.scatter(X_test[:,0], X_test[:,1])\n",
        "plt.show()"
      ],
      "metadata": {
        "colab": {
          "base_uri": "https://localhost:8080/",
          "height": 265
        },
        "id": "6VBLtP4ZvsNs",
        "outputId": "1caa190c-6146-4adf-c013-a034d4d3b9fe"
      },
      "execution_count": null,
      "outputs": [
        {
          "output_type": "display_data",
          "data": {
            "text/plain": [
              "<Figure size 432x288 with 1 Axes>"
            ],
            "image/png": "[encoded data removed]"
          },
          "metadata": {
            "needs_background": "light"
          }
        }
      ]
    },
    {
      "cell_type": "code",
      "source": [
        "#your code here\n",
        "import torch\n",
        "import time\n",
        "import torch.nn as nn\n",
        "import torch.nn.functional as F\n",
        "\n",
        "\n",
        "X_train = torch.from_numpy(X_train).float().to(device)\n",
        "y_train = torch.from_numpy(y_train).float().to(device)\n",
        "\n",
        "\n",
        "class Net(nn.Module):\n",
        "\n",
        "    def __init__(self, input_dim, num_classes):\n",
        "        super(Net, self).__init__()\n",
        "        self.fcin = nn.Linear(input_dim, 64)\n",
        "        self.fcout = nn.Linear(64, num_classes) \n",
        "\n",
        "    def forward(self, x):\n",
        "        x = torch.relu(self.fcin(x)) \n",
        "        x = torch.sigmoid(self.fcout(x))\n",
        "        return x\n",
        "\n",
        "\n",
        "train = data_utils.TensorDataset(X_train,y_train)\n",
        "train_loader = data_utils.DataLoader(train , batch_size=64 , shuffle=True)\n",
        "\n",
        "criterionCE = nn.BCELoss()\n",
        "\n",
        "def run(num_epochs, learning_rate=0.01, bench=True):\n",
        "  model = Net(2,1)\n",
        "  model = model.to(device)\n",
        "\n",
        "  optimizer = torch.optim.Adam(model.parameters(), lr=learning_rate)\n",
        "\n",
        "  model.train()\n",
        "  \n",
        "  start = time.time()\n",
        "  \n",
        "  for i in range(0, num_epochs):\n",
        "    for batch_idx,(data , labels) in enumerate(train_loader):\n",
        "      data = data.to(device)\n",
        "      labels = labels.to(device)\n",
        "\n",
        "      outputs = model(data)\n",
        "      \n",
        "      loss = criterionCE(outputs , labels.unsqueeze(1))\n",
        "      optimizer.zero_grad()\n",
        "      loss.backward()\n",
        "      optimizer.step()\n",
        "  \n",
        "  end = time.time()\n",
        "  \n",
        "  if bench:\n",
        "    print(f'training completed in {end-start}s')\n",
        "  \n",
        "  return model"
      ],
      "metadata": {
        "id": "LmN4X9vhv6YI"
      },
      "execution_count": null,
      "outputs": []
    },
    {
      "cell_type": "code",
      "source": [
        "from IPython.display import clear_output\n",
        "import time\n",
        "\n",
        "for i in range (30):\n",
        "  clear_output(wait=True)\n",
        "  model = run(i, learning_rate=0.01,bench=False)\n",
        "  plot_decision(X_test,y_test,model, output_class=False, pt = True, device='cuda')\n",
        "  time.sleep(0.2)"
      ],
      "metadata": {
        "colab": {
          "base_uri": "https://localhost:8080/",
          "height": 483
        },
        "id": "wg9nCBiwfhu1",
        "outputId": "60a3dd55-9e09-4a56-a8e1-dc1365f8acbc"
      },
      "execution_count": null,
      "outputs": [
        {
          "output_type": "display_data",
          "data": {
            "text/plain": [
              "<Figure size 576x576 with 1 Axes>"
            ],
            "image/png": "[encoded data removed]"
          },
          "metadata": {
            "needs_background": "light"
          }
        }
      ]
    },
    {
      "cell_type": "markdown",
      "source": [
        "###Part 2\n",
        "\n",
        "Now this is where we test your investigative skills. You have everything you need to begin to deduce how to piece together more complex scenarios so let's step it up a little here.\n",
        "\n",
        "Here I've provided you with an arbitrary number of blobs. You're tasked given what you know about the output of our networks so far to create something a little different. Hints, and clues are as follows:\n",
        "\n",
        "\\\n",
        "\n",
        "- Recall that we've been using a sigmoid output `torch.sigmoid` with an output dimension of 1, giving us a probability that we're looking at our positive class. This time around we'll need a softmax output\n",
        "\\\n",
        "\\\n",
        "\\begin{align}\n",
        "{Softmax}(x_{i}) = \\frac{\\exp(x_i)}{\\sum_j \\exp(x_j)}\n",
        "\\end{align}\n",
        "\\\n",
        "Where we're hoping to receive an output in the shape of **(batch size, number of classes)**. Recall from your previous sessions that the predictions for each class here sum to 1, where we're hoping to squeeze a the closest match to our target class to the highest probability in the given output.\n",
        "\\\n",
        "In short, the number of classes in your expected output shape is a big old clue as to the confifuration of your network's output.\n",
        "\n",
        "- Note also that we're going to be falling back on `nn.CrossEntropyLoss()` as our loss here and - as a hint towards how your network should look - A softmax activation is included and therefore does not need to be included in your network.\n",
        "\n",
        "- Once again finish up by plotting the result and bonus points for decision boundary evolution. Note importantly here however that `softmax` in `plot_decision` should be toggled to `True`. I've done all the legwork for you in the function and we'll discuss what's going on after the boundaries are successfully manifested. \n",
        "\n",
        "- Last of all note that this time our labels do not need to be  unsqueezed.\n",
        "\n",
        "Over to you!"
      ],
      "metadata": {
        "id": "MUJDV8NlwEhB"
      }
    },
    {
      "cell_type": "code",
      "source": [
        "from sklearn.datasets import make_blobs\n",
        "\n",
        "X, y = make_blobs(n_samples=1000, random_state=8, centers=4)"
      ],
      "metadata": {
        "id": "R9JfUJcTyMPY"
      },
      "execution_count": null,
      "outputs": []
    },
    {
      "cell_type": "code",
      "source": [
        "X_train, X_test, y_train, y_test = train_test_split(X, y, test_size=0.25, random_state=42)"
      ],
      "metadata": {
        "id": "iChSX_GFoFT-"
      },
      "execution_count": null,
      "outputs": []
    },
    {
      "cell_type": "code",
      "source": [
        "\n",
        "plt.scatter(X[:, 0], X[:, 1])\n",
        "plt.show()"
      ],
      "metadata": {
        "colab": {
          "base_uri": "https://localhost:8080/",
          "height": 265
        },
        "id": "cXWCmaHwmUpB",
        "outputId": "265e6d3a-7a39-49d1-b3ae-f6c401b8d159"
      },
      "execution_count": null,
      "outputs": [
        {
          "output_type": "display_data",
          "data": {
            "text/plain": [
              "<Figure size 432x288 with 1 Axes>"
            ],
            "image/png": "[encoded data removed]"
          },
          "metadata": {
            "needs_background": "light"
          }
        }
      ]
    },
    {
      "cell_type": "code",
      "source": [
        "import torch\n",
        "import time\n",
        "import torch.nn as nn\n",
        "\n",
        "\n",
        "\n",
        "X_train = torch.from_numpy(X_train).float().to(device)\n",
        "y_train = torch.from_numpy(y_train).float().to(device)\n",
        "\n",
        "\n",
        "class Net(nn.Module):\n",
        "\n",
        "    def __init__(self, input_dim, num_classes):\n",
        "        super(Net, self).__init__()\n",
        "        self.fcin = nn.Linear(input_dim, 8)\n",
        "        self.fcout = nn.Linear(8, num_classes) \n",
        "\n",
        "    def forward(self, x):\n",
        "        x = torch.relu(self.fcin(x)) \n",
        "        x = self.fcout(x)\n",
        "        return x\n",
        "\n",
        "\n",
        "train = data_utils.TensorDataset(X_train,y_train)\n",
        "train_loader = data_utils.DataLoader(train , batch_size=64 , shuffle=True)\n",
        "\n",
        "criterionCE = nn.CrossEntropyLoss()\n",
        "\n",
        "def run(num_epochs, learning_rate=0.01, bench=True):\n",
        "  model = Net(2,4)\n",
        "  model = model.to(device)\n",
        "\n",
        "  optimizer = torch.optim.Adam(model.parameters(), lr=learning_rate)\n",
        "\n",
        "  model.train()\n",
        "  \n",
        "  start = time.time()\n",
        "  \n",
        "  for i in range(0, num_epochs):\n",
        "    for batch_idx,(data , labels) in enumerate(train_loader):\n",
        "      data = data.to(device)\n",
        "      labels = labels.to(device)\n",
        "      labels = labels.to(torch.int64) \n",
        "      outputs = model(data)\n",
        "      \n",
        "      loss = criterionCE(outputs, labels)\n",
        "      optimizer.zero_grad()\n",
        "      loss.backward()\n",
        "      optimizer.step()\n",
        "  \n",
        "  end = time.time()\n",
        "  \n",
        "  if bench:\n",
        "    print(f'training completed in {end-start}s')\n",
        "  \n",
        "  return model"
      ],
      "metadata": {
        "id": "n5iFCHM-mrMW"
      },
      "execution_count": null,
      "outputs": []
    },
    {
      "cell_type": "code",
      "source": [
        "from IPython.display import clear_output\n",
        "import time\n",
        "\n",
        "for i in range (30):\n",
        "  clear_output(wait=True)\n",
        "  model = run(i, learning_rate=0.01,bench=False)\n",
        "  plot_decision(X_test,y_test,model, pt = True, device='cuda', softmax=True)\n",
        "  time.sleep(0.2)"
      ],
      "metadata": {
        "colab": {
          "base_uri": "https://localhost:8080/",
          "height": 483
        },
        "id": "CecGVfe-pCTq",
        "outputId": "7aa515c9-2da1-4aeb-95e7-a294392c0ac9"
      },
      "execution_count": null,
      "outputs": [
        {
          "output_type": "display_data",
          "data": {
            "text/plain": [
              "<Figure size 576x576 with 1 Axes>"
            ],
            "image/png": "[encoded data removed]"
          },
          "metadata": {
            "needs_background": "light"
          }
        }
      ]
    },
    {
      "cell_type": "markdown",
      "source": [
        "Wonderful work! Once again we can see the flexibility of our networks in conjunction with both non-linearities along with tuning the complexity of our network.\n",
        "\n",
        "Recall that we discussed earlier before the challenge that our output is **(batch size, n classes)**. Take a look at the `plot_decision` fucntion after softmax is toggled on. In order to be able to grab the predicted class we need to grab the index of the maximum value for each observation."
      ],
      "metadata": {
        "id": "8lbXTXwHCnRq"
      }
    },
    {
      "cell_type": "code",
      "source": [
        "outputs = model(torch.from_numpy(X_test).float().to(device))\n",
        "print(outputs.shape)\n",
        "pred = outputs.data.max(1, keepdim=True)[1].flatten()\n",
        "print(pred[:10])"
      ],
      "metadata": {
        "colab": {
          "base_uri": "https://localhost:8080/"
        },
        "id": "wvQ2n_c0CkAm",
        "outputId": "7ad4a78b-a0bf-48ce-97b5-d09c303bd80a"
      },
      "execution_count": null,
      "outputs": [
        {
          "output_type": "stream",
          "name": "stdout",
          "text": [
            "torch.Size([250, 4])\n",
            "tensor([1, 2, 1, 2, 1, 0, 2, 2, 3, 3], device='cuda:0')\n"
          ]
        }
      ]
    },
    {
      "cell_type": "markdown",
      "source": [
        "Et viola! Perfect we've covered a lot this session but we should all be good to dive into the excitement of literature review, and head on a journey through computer vision!"
      ],
      "metadata": {
        "id": "el--KKUQErNt"
      }
    }
  ]
}